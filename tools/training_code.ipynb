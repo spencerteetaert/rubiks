{
 "metadata": {
  "language_info": {
   "codemirror_mode": {
    "name": "ipython",
    "version": 3
   },
   "file_extension": ".py",
   "mimetype": "text/x-python",
   "name": "python",
   "nbconvert_exporter": "python",
   "pygments_lexer": "ipython3",
   "version": 3
  },
  "orig_nbformat": 2
 },
 "nbformat": 4,
 "nbformat_minor": 2,
 "cells": [
  {
   "cell_type": "code",
   "execution_count": null,
   "metadata": {},
   "outputs": [],
   "source": [
    "import time\n",
    "\n",
    "import numpy as np\n",
    "np.set_printoptions()\n",
    "import torch\n",
    "import torch.nn as nn\n",
    "import matplotlib.pyplot as plt\n",
    "\n",
    "from context import src\n",
    "from src.model.data_handler import save_datasets, load_datasets\n",
    "from src.model.model import RubiksModel\n",
    "from src.model.train import train"
   ]
  },
  {
   "cell_type": "code",
   "execution_count": null,
   "metadata": {},
   "outputs": [],
   "source": [
    "# Creates a dataset with 2,000,000 random scrambled cubes between 5 and 21 solves\n",
    "# First create a folder called \"ignore\". This will not be uploaded to github\n",
    "datapath = save_datasets(\"ignore/\", 2000000, 5000)"
   ]
  },
  {
   "cell_type": "code",
   "execution_count": null,
   "metadata": {},
   "outputs": [],
   "source": [
    "datapath = \"\" # Use this if you are loading in an existing dataset"
   ]
  },
  {
   "cell_type": "code",
   "execution_count": null,
   "metadata": {},
   "outputs": [],
   "source": [
    "internal_dimensions = [[800, 800, 320], [1500, 1500, 500], [2500, 2500, 1000]]\n",
    "dropout_rates = [0.3, 0.5, 0.7]\n",
    "learning_rates = [0.001, 0.005, 0.0001]\n",
    "counter = 0 # set this to the next epoch after a crash and uncomment the next line\n",
    "            # if it does crash, also edit the above lists to ensure you aren't retraining \n",
    "            # models you don't have to. \n",
    "results = {} # torch.load(\"models/results{}\".format(counter))\n",
    "\n",
    "for internal_dimension in internal_dimensions:\n",
    "    for dropout_rate in dropout_rates:\n",
    "        for learning_rate in learning_rates:\n",
    "            model = RubiksModel(internal_dimensions=internal_dimension, dropout_rate=dropout_rate, activation=nn.ReLU)\n",
    "            train_acc, train_loss, valid_acc, valid_loss = train(model, learning_rate=learning_rate, num_epochs=10, data_path=datapath, savepath=\"models/\")\n",
    "            results[(internal_dimension, dropout_rate, learning_rate)] = (train_acc, train_loss, valid_acc, valid_loss)\n",
    "            torch.save(results, \"models/results{}\".format(counter))\n",
    "            counter += 1"
   ]
  }
 ]
}