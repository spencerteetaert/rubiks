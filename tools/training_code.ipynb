{
 "metadata": {
  "language_info": {
   "codemirror_mode": {
    "name": "ipython",
    "version": 3
   },
   "file_extension": ".py",
   "mimetype": "text/x-python",
   "name": "python",
   "nbconvert_exporter": "python",
   "pygments_lexer": "ipython3",
   "version": "3.9.2"
  },
  "orig_nbformat": 2,
  "kernelspec": {
   "name": "python392jvsc74a57bd02647ea34e536f865ab67ff9ddee7fd78773d956cec0cab53c79b32cd10da5d83",
   "display_name": "Python 3.9.2 64-bit"
  }
 },
 "nbformat": 4,
 "nbformat_minor": 2,
 "cells": [
  {
   "cell_type": "code",
   "execution_count": null,
   "metadata": {},
   "outputs": [],
   "source": [
    "import time\n",
    "\n",
    "import numpy as np\n",
    "np.set_printoptions()\n",
    "import torch\n",
    "import torch.nn as nn\n",
    "import matplotlib.pyplot as plt\n",
    "\n",
    "from context import src\n",
    "from src.model.data_handler import save_datasets, load_datasets\n",
    "from src.model.model import RubiksModel\n",
    "from src.model.train import train"
   ]
  },
  {
   "cell_type": "code",
   "execution_count": null,
   "metadata": {},
   "outputs": [],
   "source": [
    "# Creates a dataset with 2,000,000 random scrambled cubes between 5 and 21 solves\n",
    "# First create a folder called \"ignore\". This will not be uploaded to github\n",
    "datapath = save_datasets(\"ignore/\", 2000000, 5000)"
   ]
  },
  {
   "cell_type": "code",
   "execution_count": null,
   "metadata": {},
   "outputs": [],
   "source": [
    "datapath = \"\" # Use this if you are loading in an existing dataset"
   ]
  },
  {
   "cell_type": "code",
   "execution_count": null,
   "metadata": {},
   "outputs": [],
   "source": [
    "internal_dimensions = ((2000, 1500, 500), (2500, 2500, 1000), (3000, 2500, 1500))\n",
    "dropout_rates = [0, 0.1, 0.2]\n",
    "learning_rates = [0.0008, 0.0005, 0.0002]\n",
    "counter = 0 # set this to the next epoch after a crash and uncomment the next line\n",
    "            # if it does crash, also edit the above lists to ensure you aren't retraining \n",
    "            # models you don't have to. \n",
    "last_saved = -1\n",
    "results = 0 if last_saved == -1 else torch.load(\"models/results_{}\".format(last_saved))\n",
    "\n",
    "for internal_dimension in internal_dimensions:\n",
    "    for dropout_rate in dropout_rates:\n",
    "        for learning_rate in learning_rates:\n",
    "            if counter > last_saved:\n",
    "                model = RubiksModel(internal_dimensions=internal_dimension, dropout_rate=dropout_rate, activation=nn.ReLU)\n",
    "                train_acc, train_loss, valid_acc, valid_loss = train(model, learning_rate=learning_rate, num_epochs=10, data_path=datapath, savepath=\"models/\")\n",
    "                results[(internal_dimension, dropout_rate, learning_rate)] = (train_acc, train_loss, valid_acc, valid_loss)\n",
    "                torch.save(results, \"models/results_{}\".format(counter))\n",
    "            counter += 1"
   ]
  },
  {
   "cell_type": "code",
   "execution_count": null,
   "metadata": {},
   "outputs": [],
   "source": [
    "results = torch.load(r\"FILE_PATH\")\n",
    "\n",
    "for i, item in enumerate(results):\n",
    "    train_acc, train_loss, valid_acc, valid_loss = results[item]\n",
    "    print(i, item, np.min(valid_loss))\n",
    "\n",
    "train_acc, train_loss, valid_acc, valid_loss = results[(2500, 2500, 1000, 0.3, 0.001)]\n",
    "\n",
    "plt.plot(np.arange(len(train_acc)), train_acc, np.arange(len(train_acc)), valid_acc, label=\"Acc\")\n",
    "plt.legend()\n",
    "plt.show()\n",
    "plt.plot(np.arange(len(train_loss)), train_loss, np.arange(len(train_loss)), valid_loss, label=\"Loss\")\n",
    "plt.legend()\n",
    "plt.show()"
   ]
  },
  {
   "cell_type": "code",
   "execution_count": null,
   "metadata": {},
   "outputs": [],
   "source": []
  }
 ]
}